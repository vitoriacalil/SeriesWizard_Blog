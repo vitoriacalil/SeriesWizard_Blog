{
 "cells": [
  {
   "cell_type": "markdown",
   "metadata": {},
   "source": [
    "# Modeling"
   ]
  },
  {
   "cell_type": "markdown",
   "metadata": {},
   "source": [
    "## Vectorize\n",
    "\n",
    "To detect similarities between series episodes, we need to choose a word representation method. In my case TFIDF was used, because I wanted to reduce the importance of words that were used in most of the documents/scripts."
   ]
  },
  {
   "cell_type": "code",
   "execution_count": 13,
   "metadata": {},
   "outputs": [],
   "source": [
    "# import sklearn feature extraction\n",
    "from sklearn.feature_extraction.text import TfidfVectorizer"
   ]
  },
  {
   "cell_type": "code",
   "execution_count": 14,
   "metadata": {},
   "outputs": [],
   "source": [
    "# select TFIDF model\n",
    "model = TfidfVectorizer()\n",
    "v = model.fit_transform(df.script)"
   ]
  },
  {
   "cell_type": "markdown",
   "metadata": {},
   "source": [
    "Below we can see the shape of the vector that was created.\n",
    "\n",
    "\n",
    "(number of episodes X number of words in all documents)"
   ]
  },
  {
   "cell_type": "code",
   "execution_count": 15,
   "metadata": {},
   "outputs": [
    {
     "data": {
      "text/plain": [
       "(403, 35568)"
      ]
     },
     "execution_count": 15,
     "metadata": {},
     "output_type": "execute_result"
    }
   ],
   "source": [
    "v.shape"
   ]
  },
  {
   "cell_type": "markdown",
   "metadata": {},
   "source": [
    "# Data Exploration\n",
    "\n",
    "From here beyond, I will do some data analysis and data exploration to understand the data set"
   ]
  },
  {
   "cell_type": "markdown",
   "metadata": {},
   "source": [
    "## Topic Extraction with NMF \n",
    "non-negative matrix factorization (multivariate analysis)\n",
    "\n",
    "Here I will use NMF to discover the number of topics that provide an efficient representation of the original scripts."
   ]
  },
  {
   "cell_type": "code",
   "execution_count": 16,
   "metadata": {},
   "outputs": [],
   "source": [
    "from sklearn.decomposition import NMF"
   ]
  },
  {
   "cell_type": "markdown",
   "metadata": {},
   "source": [
    "**set the number of topics**\n",
    "\n",
    "\n",
    "in this case I analyzed different number of topics and determined that 10 was a best representation of the data"
   ]
  },
  {
   "cell_type": "code",
   "execution_count": 35,
   "metadata": {},
   "outputs": [],
   "source": [
    "m2 = NMF(n_components=10)    # model selection\n",
    "dt = m2.fit_transform(v)     # fit model using TFIDF matrix"
   ]
  },
  {
   "cell_type": "code",
   "execution_count": 36,
   "metadata": {},
   "outputs": [
    {
     "data": {
      "text/plain": [
       "array([0.        , 0.01062688, 0.0428151 , 0.01863602, 0.11922291,\n",
       "       0.        , 0.02923828, 0.00287145, 0.00176396, 0.01863855])"
      ]
     },
     "execution_count": 36,
     "metadata": {},
     "output_type": "execute_result"
    }
   ],
   "source": [
    "dt[0]"
   ]
  },
  {
   "cell_type": "markdown",
   "metadata": {},
   "source": [
    "We can see below that the first element of the **dt** array, has 10 values.\n",
    "\n",
    "\n",
    "Each value represents one cluster/topic.\n",
    "\n",
    "\n",
    "Below, I will take the maximum value of each episode and assigned to the respective dataframe row."
   ]
  },
  {
   "cell_type": "code",
   "execution_count": 37,
   "metadata": {},
   "outputs": [],
   "source": [
    "# create clusters for each episode from each series\n",
    "df['cluster'] = dt.argmax(axis=1)"
   ]
  },
  {
   "cell_type": "code",
   "execution_count": 38,
   "metadata": {},
   "outputs": [
    {
     "data": {
      "text/html": [
       "<div>\n",
       "<style scoped>\n",
       "    .dataframe tbody tr th:only-of-type {\n",
       "        vertical-align: middle;\n",
       "    }\n",
       "\n",
       "    .dataframe tbody tr th {\n",
       "        vertical-align: top;\n",
       "    }\n",
       "\n",
       "    .dataframe thead th {\n",
       "        text-align: right;\n",
       "    }\n",
       "</style>\n",
       "<table border=\"1\" class=\"dataframe\">\n",
       "  <thead>\n",
       "    <tr style=\"text-align: right;\">\n",
       "      <th></th>\n",
       "      <th>episode_name</th>\n",
       "      <th>header</th>\n",
       "      <th>script</th>\n",
       "      <th>season</th>\n",
       "      <th>serie_name</th>\n",
       "      <th>serie_name2</th>\n",
       "      <th>streaming_platform</th>\n",
       "      <th>category</th>\n",
       "      <th>cluster</th>\n",
       "    </tr>\n",
       "  </thead>\n",
       "  <tbody>\n",
       "    <tr>\n",
       "      <th>0</th>\n",
       "      <td>The Enemies of my Enemy</td>\n",
       "      <td>Narcos (2015) s02e05 Episode Script</td>\n",
       "      <td>gotta fucking kidding  mm...</td>\n",
       "      <td>Season 2</td>\n",
       "      <td>Narcos (2015)</td>\n",
       "      <td>narcos</td>\n",
       "      <td>netflix</td>\n",
       "      <td>drama</td>\n",
       "      <td>4</td>\n",
       "    </tr>\n",
       "    <tr>\n",
       "      <th>1</th>\n",
       "      <td>Here Comes the Sun</td>\n",
       "      <td>Fuller House (2016) s03e18 Episode Script     ...</td>\n",
       "      <td>1   whatever happened pred...</td>\n",
       "      <td>Season 3</td>\n",
       "      <td>Fuller House (2016)</td>\n",
       "      <td>fuller house</td>\n",
       "      <td>netflix</td>\n",
       "      <td>comedy</td>\n",
       "      <td>0</td>\n",
       "    </tr>\n",
       "  </tbody>\n",
       "</table>\n",
       "</div>"
      ],
      "text/plain": [
       "              episode_name                                             header  \\\n",
       "0  The Enemies of my Enemy    Narcos (2015) s02e05 Episode Script               \n",
       "1       Here Comes the Sun  Fuller House (2016) s03e18 Episode Script     ...   \n",
       "\n",
       "                                              script    season  \\\n",
       "0                       gotta fucking kidding  mm...  Season 2   \n",
       "1                      1   whatever happened pred...  Season 3   \n",
       "\n",
       "            serie_name   serie_name2 streaming_platform category  cluster  \n",
       "0        Narcos (2015)        narcos            netflix    drama        4  \n",
       "1  Fuller House (2016)  fuller house            netflix   comedy        0  "
      ]
     },
     "execution_count": 38,
     "metadata": {},
     "output_type": "execute_result"
    }
   ],
   "source": [
    "# the row 'cluster' is topic that the episode was assigned to\n",
    "df.head(2)"
   ]
  },
  {
   "cell_type": "markdown",
   "metadata": {},
   "source": [
    "**Feature Extraction Results**\n",
    "\n",
    "Now it is time to plot the words that represents each topic, and analyze if it makes sense"
   ]
  },
  {
   "cell_type": "code",
   "execution_count": 40,
   "metadata": {},
   "outputs": [],
   "source": [
    "# print the words for each topic\n",
    "topic_words = []\n",
    "words = model.get_feature_names()\n",
    "for r in m2.components_:\n",
    "    a = sorted([(v,i) for i,v in enumerate(r)],reverse=True)[0:7]        # print 7 most common words\n",
    "    topic_words.append([words[e[1]] for e in a])"
   ]
  },
  {
   "cell_type": "code",
   "execution_count": 41,
   "metadata": {},
   "outputs": [
    {
     "data": {
      "text/plain": [
       "[['get', 'well', 'go', 'god', 'mean', 'cant', 'sorry'],\n",
       " ['dr', 'robot', 'well', 'dear', 'get', 'professor', 'shall'],\n",
       " ['president', 'underwood', 'sir', 'well', 'mr', 'secretary', 'vice'],\n",
       " ['hefner', 'playboy', 'magazine', 'hef', 'bunnies', 'arnstein', 'club'],\n",
       " ['fucking', 'fuck', 'get', 'shit', 'well', 'go', 'man'],\n",
       " ['sighs', 'chuckles', 'music', 'man', 'laughs', 'door', 'get'],\n",
       " ['ngeles', 'alba', 'operator', 'aguilar', 'company', 'ill', 'go'],\n",
       " ['glinda', 'langwidere', 'toto', 'magic', 'ojo', 'scarecrow', 'gnomes'],\n",
       " ['clover', 'kingdom', 'majesty', 'foosa', 'xixi', 'ha', 'lemur'],\n",
       " ['bosch', 'waits', 'detective', 'go', 'get', 'gunn', 'mr']]"
      ]
     },
     "execution_count": 41,
     "metadata": {},
     "output_type": "execute_result"
    }
   ],
   "source": [
    "topic_words"
   ]
  },
  {
   "cell_type": "markdown",
   "metadata": {},
   "source": [
    "**Visualizing Topic Extraction**"
   ]
  },
  {
   "cell_type": "code",
   "execution_count": 42,
   "metadata": {},
   "outputs": [],
   "source": [
    "# We can try to visualize our documents using TSNE - an approach for visualizing high-dimensional data\n",
    "\n",
    "# Import the module first\n",
    "from sklearn.manifold import TSNE\n",
    "\n",
    "# And instantiate\n",
    "tsne = TSNE()\n",
    "\n",
    "# Let's try to boil down the 100 dimensions into 2\n",
    "visualization = tsne.fit_transform(dt)"
   ]
  },
  {
   "cell_type": "code",
   "execution_count": 44,
   "metadata": {},
   "outputs": [
    {
     "data": {
      "text/plain": [
       "<matplotlib.axes._subplots.AxesSubplot at 0x7f2982ce7630>"
      ]
     },
     "execution_count": 44,
     "metadata": {},
     "output_type": "execute_result"
    },
    {
     "data": {
      "image/png": "[encoded data removed]",
      "text/plain": [
       "<Figure size 720x720 with 1 Axes>"
      ]
     },
     "metadata": {
      "needs_background": "light"
     },
     "output_type": "display_data"
    }
   ],
   "source": [
    "# Import plotting library\n",
    "import matplotlib.pyplot as plt\n",
    "import seaborn as sns\n",
    "\n",
    "plt.figure(figsize=(10,10))\n",
    "sns.scatterplot(visualization[:,0],visualization[:,1], data = df, palette='coolwarm', hue=df['cluster'], legend='full')"
   ]
  },
  {
   "cell_type": "markdown",
   "metadata": {},
   "source": [
    "# Clustering Series"
   ]
  },
  {
   "cell_type": "markdown",
   "metadata": {},
   "source": [
    "**Defining a Cluster for Each Serie**\n",
    "\n",
    "here I will find out in each cluster each series is inserted\n",
    "\n",
    "on the above chart, each point represent an episode."
   ]
  },
  {
   "cell_type": "code",
   "execution_count": 47,
   "metadata": {},
   "outputs": [],
   "source": [
    "# pass the value NMF value from each cluster to each series\n",
    "df['cluster2'] = list(dt)"
   ]
  },
  {
   "cell_type": "code",
   "execution_count": 85,
   "metadata": {},
   "outputs": [],
   "source": [
    "# take the column with the cluster list for each series and tranform each value into a column\n",
    "df_clustering = df\n",
    "df_clustering = df_clustering.drop(columns=['episode_name', 'header', 'script', 'season','serie_name', 'category','cluster'])"
   ]
  },
  {
   "cell_type": "markdown",
   "metadata": {},
   "source": [
    "This dataframe will only contain serie name, clusters value and streaming platform"
   ]
  },
  {
   "cell_type": "code",
   "execution_count": 86,
   "metadata": {},
   "outputs": [
    {
     "data": {
      "text/html": [
       "<div>\n",
       "<style scoped>\n",
       "    .dataframe tbody tr th:only-of-type {\n",
       "        vertical-align: middle;\n",
       "    }\n",
       "\n",
       "    .dataframe tbody tr th {\n",
       "        vertical-align: top;\n",
       "    }\n",
       "\n",
       "    .dataframe thead th {\n",
       "        text-align: right;\n",
       "    }\n",
       "</style>\n",
       "<table border=\"1\" class=\"dataframe\">\n",
       "  <thead>\n",
       "    <tr style=\"text-align: right;\">\n",
       "      <th></th>\n",
       "      <th>serie_name2</th>\n",
       "      <th>streaming_platform</th>\n",
       "      <th>cluster2</th>\n",
       "    </tr>\n",
       "  </thead>\n",
       "  <tbody>\n",
       "    <tr>\n",
       "      <th>0</th>\n",
       "      <td>narcos</td>\n",
       "      <td>netflix</td>\n",
       "      <td>[0.0, 0.010626881124940021, 0.0428151011922099...</td>\n",
       "    </tr>\n",
       "    <tr>\n",
       "      <th>1</th>\n",
       "      <td>fuller house</td>\n",
       "      <td>netflix</td>\n",
       "      <td>[0.14914693976544746, 0.0026553386188518952, 0...</td>\n",
       "    </tr>\n",
       "    <tr>\n",
       "      <th>2</th>\n",
       "      <td>bosch</td>\n",
       "      <td>amazon</td>\n",
       "      <td>[0.0, 0.0, 0.0, 0.0, 0.0, 0.0, 0.0, 0.0, 0.0, ...</td>\n",
       "    </tr>\n",
       "    <tr>\n",
       "      <th>3</th>\n",
       "      <td>mozart in the jungle</td>\n",
       "      <td>amazon</td>\n",
       "      <td>[0.12471652180650052, 0.0015722685553084916, 0...</td>\n",
       "    </tr>\n",
       "    <tr>\n",
       "      <th>4</th>\n",
       "      <td>big mouth</td>\n",
       "      <td>netflix</td>\n",
       "      <td>[0.13552072026225975, 0.0027575293700355455, 0...</td>\n",
       "    </tr>\n",
       "  </tbody>\n",
       "</table>\n",
       "</div>"
      ],
      "text/plain": [
       "            serie_name2 streaming_platform  \\\n",
       "0                narcos            netflix   \n",
       "1          fuller house            netflix   \n",
       "2                 bosch             amazon   \n",
       "3  mozart in the jungle             amazon   \n",
       "4             big mouth            netflix   \n",
       "\n",
       "                                            cluster2  \n",
       "0  [0.0, 0.010626881124940021, 0.0428151011922099...  \n",
       "1  [0.14914693976544746, 0.0026553386188518952, 0...  \n",
       "2  [0.0, 0.0, 0.0, 0.0, 0.0, 0.0, 0.0, 0.0, 0.0, ...  \n",
       "3  [0.12471652180650052, 0.0015722685553084916, 0...  \n",
       "4  [0.13552072026225975, 0.0027575293700355455, 0...  "
      ]
     },
     "execution_count": 86,
     "metadata": {},
     "output_type": "execute_result"
    }
   ],
   "source": [
    "df_clustering.head()"
   ]
  },
  {
   "cell_type": "code",
   "execution_count": 87,
   "metadata": {},
   "outputs": [],
   "source": [
    "df_clustering['c1'] = df_clustering['cluster2'].apply(lambda x: x[0])\n",
    "df_clustering['c2'] = df_clustering['cluster2'].apply(lambda x: x[1])\n",
    "df_clustering['c3'] = df_clustering['cluster2'].apply(lambda x: x[2])"
   ]
  },
  {
   "cell_type": "code",
   "execution_count": 88,
   "metadata": {},
   "outputs": [],
   "source": [
    "df_clustering = df_clustering.drop(columns=['cluster2'])\n",
    "\n",
    "# Groupby series name, find the mean to each cluster\n",
    "df_serie = df_clustering.groupby(['serie_name2']).mean().reset_index()\n",
    "df_serie['primary_cluster'] = df_serie[['c1', 'c2', 'c3']].idxmax(axis=1)"
   ]
  },
  {
   "cell_type": "code",
   "execution_count": 89,
   "metadata": {},
   "outputs": [
    {
     "data": {
      "text/html": [
       "<div>\n",
       "<style scoped>\n",
       "    .dataframe tbody tr th:only-of-type {\n",
       "        vertical-align: middle;\n",
       "    }\n",
       "\n",
       "    .dataframe tbody tr th {\n",
       "        vertical-align: top;\n",
       "    }\n",
       "\n",
       "    .dataframe thead th {\n",
       "        text-align: right;\n",
       "    }\n",
       "</style>\n",
       "<table border=\"1\" class=\"dataframe\">\n",
       "  <thead>\n",
       "    <tr style=\"text-align: right;\">\n",
       "      <th></th>\n",
       "      <th>serie_name2</th>\n",
       "      <th>c1</th>\n",
       "      <th>c2</th>\n",
       "      <th>c3</th>\n",
       "      <th>primary_cluster</th>\n",
       "    </tr>\n",
       "  </thead>\n",
       "  <tbody>\n",
       "    <tr>\n",
       "      <th>0</th>\n",
       "      <td>13 reasons why</td>\n",
       "      <td>0.128819</td>\n",
       "      <td>0.003558</td>\n",
       "      <td>0.003692</td>\n",
       "      <td>c1</td>\n",
       "    </tr>\n",
       "    <tr>\n",
       "      <th>1</th>\n",
       "      <td>3%</td>\n",
       "      <td>0.015290</td>\n",
       "      <td>0.017320</td>\n",
       "      <td>0.022056</td>\n",
       "      <td>c3</td>\n",
       "    </tr>\n",
       "    <tr>\n",
       "      <th>2</th>\n",
       "      <td>alexa &amp; katie</td>\n",
       "      <td>0.134405</td>\n",
       "      <td>0.000000</td>\n",
       "      <td>0.000000</td>\n",
       "      <td>c1</td>\n",
       "    </tr>\n",
       "    <tr>\n",
       "      <th>3</th>\n",
       "      <td>all about the washingtons</td>\n",
       "      <td>0.117917</td>\n",
       "      <td>0.005427</td>\n",
       "      <td>0.000000</td>\n",
       "      <td>c1</td>\n",
       "    </tr>\n",
       "    <tr>\n",
       "      <th>4</th>\n",
       "      <td>all hail king julien</td>\n",
       "      <td>0.009288</td>\n",
       "      <td>0.003648</td>\n",
       "      <td>0.002037</td>\n",
       "      <td>c1</td>\n",
       "    </tr>\n",
       "  </tbody>\n",
       "</table>\n",
       "</div>"
      ],
      "text/plain": [
       "                 serie_name2        c1        c2        c3 primary_cluster\n",
       "0             13 reasons why  0.128819  0.003558  0.003692              c1\n",
       "1                         3%  0.015290  0.017320  0.022056              c3\n",
       "2              alexa & katie  0.134405  0.000000  0.000000              c1\n",
       "3  all about the washingtons  0.117917  0.005427  0.000000              c1\n",
       "4       all hail king julien  0.009288  0.003648  0.002037              c1"
      ]
     },
     "execution_count": 89,
     "metadata": {},
     "output_type": "execute_result"
    }
   ],
   "source": [
    "df_serie.head()"
   ]
  },
  {
   "cell_type": "markdown",
   "metadata": {},
   "source": [
    "# Creating Series Recommendations\n",
    "\n",
    "Now we have a data frame with all Series, and we know in which topic/cluster it was inserted when using feature extraction.\n",
    "\n",
    "The following step is to really analyze each series, and find its most similar series to recommend."
   ]
  },
  {
   "cell_type": "code",
   "execution_count": 90,
   "metadata": {},
   "outputs": [],
   "source": [
    "import numpy as np\n",
    "\n",
    "# create a matrix with cluster values\n",
    "a = np.matrix(df_serie[['c1', 'c2', 'c3']])"
   ]
  },
  {
   "cell_type": "code",
   "execution_count": 91,
   "metadata": {},
   "outputs": [
    {
     "data": {
      "text/plain": [
       "(92, 3)"
      ]
     },
     "execution_count": 91,
     "metadata": {},
     "output_type": "execute_result"
    }
   ],
   "source": [
    "a.shape"
   ]
  },
  {
   "cell_type": "markdown",
   "metadata": {},
   "source": [
    "Here we have a tuple with 92 X 10 values, meaning that we have 92 series and 10 topics."
   ]
  },
  {
   "cell_type": "markdown",
   "metadata": {},
   "source": [
    "## Cosine Similarity\n",
    "\n",
    "I used cosine similarity as a measure of similarity.\n",
    "\n",
    "Cosine similarity values range from -1 to 1. \n",
    "\n",
    "I will calculate the similarity of a series to every other series, and then I will extract the 3 most similar series."
   ]
  },
  {
   "cell_type": "code",
   "execution_count": 92,
   "metadata": {},
   "outputs": [],
   "source": [
    "from sklearn.metrics.pairwise import cosine_similarity\n",
    "cosine_sim = cosine_similarity(a, a)"
   ]
  },
  {
   "cell_type": "code",
   "execution_count": 93,
   "metadata": {},
   "outputs": [],
   "source": [
    "df_serie['closest'] = [v[0] for v in np.argsort(cosine_sim, axis=1)[:,-2:-1]]\n",
    "df_serie['closest2'] = [v[0] for v in np.argsort(cosine_sim, axis=1)[:,-3:-1]]\n",
    "df_serie['closest3'] = [v[0] for v in np.argsort(cosine_sim, axis=1)[:,-4:-1]]"
   ]
  },
  {
   "cell_type": "markdown",
   "metadata": {},
   "source": [
    "## Aggregate recommendations to df\n",
    "Now I can aggregate the recommendations to a meaninful dataframe.\n",
    "\n",
    "This step can be pretty confusing, although, if you are familiar with data manipulation with pandas, it will be easy to follow along.\n",
    "\n",
    "The reason why I had to create a data frame with these values, is because I developed a Flask app using exactly this dataframe format."
   ]
  },
  {
   "cell_type": "code",
   "execution_count": 95,
   "metadata": {},
   "outputs": [],
   "source": [
    "df_index = df_serie.reset_index()\n",
    "df_index = df_index.drop(columns=['c1', 'c2', 'c3', 'primary_cluster', 'closest', \n",
    "                                  'closest2', 'closest3'])"
   ]
  },
  {
   "cell_type": "code",
   "execution_count": 96,
   "metadata": {},
   "outputs": [],
   "source": [
    "df_index = df_index.rename(columns={'serie_name2':'serie_name'})"
   ]
  },
  {
   "cell_type": "code",
   "execution_count": 97,
   "metadata": {},
   "outputs": [
    {
     "data": {
      "text/html": [
       "<div>\n",
       "<style scoped>\n",
       "    .dataframe tbody tr th:only-of-type {\n",
       "        vertical-align: middle;\n",
       "    }\n",
       "\n",
       "    .dataframe tbody tr th {\n",
       "        vertical-align: top;\n",
       "    }\n",
       "\n",
       "    .dataframe thead th {\n",
       "        text-align: right;\n",
       "    }\n",
       "</style>\n",
       "<table border=\"1\" class=\"dataframe\">\n",
       "  <thead>\n",
       "    <tr style=\"text-align: right;\">\n",
       "      <th></th>\n",
       "      <th>index</th>\n",
       "      <th>serie_name</th>\n",
       "    </tr>\n",
       "  </thead>\n",
       "  <tbody>\n",
       "    <tr>\n",
       "      <th>0</th>\n",
       "      <td>0</td>\n",
       "      <td>13 reasons why</td>\n",
       "    </tr>\n",
       "    <tr>\n",
       "      <th>1</th>\n",
       "      <td>1</td>\n",
       "      <td>3%</td>\n",
       "    </tr>\n",
       "    <tr>\n",
       "      <th>2</th>\n",
       "      <td>2</td>\n",
       "      <td>alexa &amp; katie</td>\n",
       "    </tr>\n",
       "    <tr>\n",
       "      <th>3</th>\n",
       "      <td>3</td>\n",
       "      <td>all about the washingtons</td>\n",
       "    </tr>\n",
       "    <tr>\n",
       "      <th>4</th>\n",
       "      <td>4</td>\n",
       "      <td>all hail king julien</td>\n",
       "    </tr>\n",
       "  </tbody>\n",
       "</table>\n",
       "</div>"
      ],
      "text/plain": [
       "   index                 serie_name\n",
       "0      0             13 reasons why\n",
       "1      1                         3%\n",
       "2      2              alexa & katie\n",
       "3      3  all about the washingtons\n",
       "4      4       all hail king julien"
      ]
     },
     "execution_count": 97,
     "metadata": {},
     "output_type": "execute_result"
    }
   ],
   "source": [
    "df_index.head()"
   ]
  },
  {
   "cell_type": "markdown",
   "metadata": {},
   "source": [
    "**Change the index values to the series name**"
   ]
  },
  {
   "cell_type": "code",
   "execution_count": 98,
   "metadata": {},
   "outputs": [],
   "source": [
    "df_recommender = pd.merge(df_serie, df_index, left_on='closest', right_on='index')\n",
    "df_recommender = df_recommender.drop(columns=['c1', 'c2', 'c3', 'primary_cluster'])\n",
    "df_recommender = df_recommender.drop(columns=['index'])\n",
    "df_recommender = df_recommender.rename(columns={'serie_name':'1st', 'serie_name2':'serie_name3'})"
   ]
  },
  {
   "cell_type": "markdown",
   "metadata": {},
   "source": [
    "Repeat the process for all the other 2 recommendations"
   ]
  },
  {
   "cell_type": "code",
   "execution_count": 99,
   "metadata": {},
   "outputs": [],
   "source": [
    "df_recommender = pd.merge(df_recommender, df_index, left_on='closest2', right_on='index')\n",
    "\n",
    "df_recommender = df_recommender.drop(columns=['index'])\n",
    "df_recommender = df_recommender.rename(columns={'serie_name':'2nd'})"
   ]
  },
  {
   "cell_type": "code",
   "execution_count": 100,
   "metadata": {},
   "outputs": [],
   "source": [
    "df_recommender = pd.merge(df_recommender, df_index, left_on='closest3', right_on='index')\n",
    "\n",
    "df_recommender = df_recommender.drop(columns=['index'])\n",
    "df_recommender = df_recommender.rename(columns={'serie_name':'3rd'})"
   ]
  },
  {
   "cell_type": "code",
   "execution_count": 101,
   "metadata": {},
   "outputs": [
    {
     "data": {
      "text/html": [
       "<div>\n",
       "<style scoped>\n",
       "    .dataframe tbody tr th:only-of-type {\n",
       "        vertical-align: middle;\n",
       "    }\n",
       "\n",
       "    .dataframe tbody tr th {\n",
       "        vertical-align: top;\n",
       "    }\n",
       "\n",
       "    .dataframe thead th {\n",
       "        text-align: right;\n",
       "    }\n",
       "</style>\n",
       "<table border=\"1\" class=\"dataframe\">\n",
       "  <thead>\n",
       "    <tr style=\"text-align: right;\">\n",
       "      <th></th>\n",
       "      <th>serie_name3</th>\n",
       "      <th>closest</th>\n",
       "      <th>closest2</th>\n",
       "      <th>closest3</th>\n",
       "      <th>1st</th>\n",
       "      <th>2nd</th>\n",
       "      <th>3rd</th>\n",
       "    </tr>\n",
       "  </thead>\n",
       "  <tbody>\n",
       "    <tr>\n",
       "      <th>0</th>\n",
       "      <td>13 reasons why</td>\n",
       "      <td>56</td>\n",
       "      <td>75</td>\n",
       "      <td>23</td>\n",
       "      <td>marvel's runaways</td>\n",
       "      <td>the get down</td>\n",
       "      <td>dear white people</td>\n",
       "    </tr>\n",
       "    <tr>\n",
       "      <th>1</th>\n",
       "      <td>all about the washingtons</td>\n",
       "      <td>9</td>\n",
       "      <td>88</td>\n",
       "      <td>23</td>\n",
       "      <td>atypical</td>\n",
       "      <td>the ranch</td>\n",
       "      <td>dear white people</td>\n",
       "    </tr>\n",
       "    <tr>\n",
       "      <th>2</th>\n",
       "      <td>3%</td>\n",
       "      <td>64</td>\n",
       "      <td>78</td>\n",
       "      <td>82</td>\n",
       "      <td>ozark</td>\n",
       "      <td>the handmaid's tale</td>\n",
       "      <td>the man in the high castle</td>\n",
       "    </tr>\n",
       "    <tr>\n",
       "      <th>3</th>\n",
       "      <td>ozark</td>\n",
       "      <td>1</td>\n",
       "      <td>78</td>\n",
       "      <td>90</td>\n",
       "      <td>3%</td>\n",
       "      <td>the handmaid's tale</td>\n",
       "      <td>you are wanted</td>\n",
       "    </tr>\n",
       "    <tr>\n",
       "      <th>4</th>\n",
       "      <td>the crown</td>\n",
       "      <td>66</td>\n",
       "      <td>82</td>\n",
       "      <td>90</td>\n",
       "      <td>ripper street</td>\n",
       "      <td>the man in the high castle</td>\n",
       "      <td>you are wanted</td>\n",
       "    </tr>\n",
       "  </tbody>\n",
       "</table>\n",
       "</div>"
      ],
      "text/plain": [
       "                 serie_name3  closest  closest2  closest3                1st  \\\n",
       "0             13 reasons why       56        75        23  marvel's runaways   \n",
       "1  all about the washingtons        9        88        23           atypical   \n",
       "2                         3%       64        78        82              ozark   \n",
       "3                      ozark        1        78        90                 3%   \n",
       "4                  the crown       66        82        90      ripper street   \n",
       "\n",
       "                          2nd                         3rd  \n",
       "0                the get down           dear white people  \n",
       "1                   the ranch           dear white people  \n",
       "2         the handmaid's tale  the man in the high castle  \n",
       "3         the handmaid's tale              you are wanted  \n",
       "4  the man in the high castle              you are wanted  "
      ]
     },
     "execution_count": 101,
     "metadata": {},
     "output_type": "execute_result"
    }
   ],
   "source": [
    "df_recommender.head()"
   ]
  },
  {
   "cell_type": "code",
   "execution_count": 2,
   "metadata": {},
   "outputs": [],
   "source": [
    "import sys\n",
    "from nbconvert import HTMLExporter\n",
    "import nbformat"
   ]
  },
  {
   "cell_type": "code",
   "execution_count": 5,
   "metadata": {},
   "outputs": [
    {
     "name": "stdout",
     "output_type": "stream",
     "text": [
      "[NbConvertApp] Converting notebook blog_post-Copy1.ipynb to html\n",
      "[NbConvertApp] Writing 371899 bytes to blog_post-Copy1.html\n"
     ]
    }
   ],
   "source": [
    "!jupyter nbconvert --to html blog_post-Copy1.ipynb"
   ]
  },
  {
   "cell_type": "code",
   "execution_count": null,
   "metadata": {},
   "outputs": [],
   "source": []
  }
 ],
 "metadata": {
  "kernelspec": {
   "display_name": "Python 3",
   "language": "python",
   "name": "python3"
  },
  "language_info": {
   "codemirror_mode": {
    "name": "ipython",
    "version": 3
   },
   "file_extension": ".py",
   "mimetype": "text/x-python",
   "name": "python",
   "nbconvert_exporter": "python",
   "pygments_lexer": "ipython3",
   "version": "3.6.6"
  }
 },
 "nbformat": 4,
 "nbformat_minor": 2
}
